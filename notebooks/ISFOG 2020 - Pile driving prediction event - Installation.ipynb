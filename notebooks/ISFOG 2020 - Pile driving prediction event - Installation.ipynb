{
 "cells": [
  {
   "cell_type": "markdown",
   "metadata": {},
   "source": [
    "<img class='pull-right' src='Images/ISFOG_logo_edited.png' width=150>"
   ]
  },
  {
   "cell_type": "markdown",
   "metadata": {},
   "source": [
    "# ISFOG 2020 - Pile driving prediction event\n",
    "\n",
    "Data science techniques are rapidly transforming businesses in a broad range of sectors. While marketing and social applications have received most attention to date, geotechnical engineering can also benefit from data science tools that are now readily available. \n",
    "\n",
    "In the context of the ISFOG2020 conference in Austin, TX, a prediction event is launched which invites geotechnical engineers to share knowledge and gain hands-on experience with machine learning models.\n",
    "\n",
    "This document shows you how to install the necessary tools for getting started with machine learning on your system."
   ]
  },
  {
   "cell_type": "markdown",
   "metadata": {},
   "source": [
    "## 1. Downloading Anaconda\n",
    "\n",
    "The demo for the data science prediction event works with Python scripting. To install Python on your system, installing the [Anaconda distribution](https://www.continuum.com/anaconda) is recommended. Install the Python 3.7 version on your system.\n",
    "\n",
    "## 2. Launching the Jupyter notebook local development server\n",
    "\n",
    "Jupyter notebooks consist of a mix of Python code and text explaining the workflow. You can run Jupyter notebooks by opening the <i>Anaconda Navigator</i> (Figure 1). \n",
    "\n",
    "<img src=\"Images/open_anaconda.png\" width=200>\n",
    "<br><center><b>Figure 1: Opening Anaconda navigator on Windows</b></center>\n",
    "\n",
    "When the Anaconda Navigator, click the <i>Launch</i> button on the Jupyter notebook widget (Figure 2). \n",
    "\n",
    "<img src=\"Images/open_jupyter.png\" width=500>\n",
    "<br><center><b>Figure 2: Launching Jupyter notebooks</b></center>\n",
    "\n",
    "This will open a browser window in your user directory (Figure 3). In this browser interface, you can navigate to directories and files and open Jupyter notebooks (extension ```.ipynb```).\n",
    "\n",
    "<img src=\"Images/jupyter_browser.png\" width=500>\n",
    "<br><center><b>Figure 3: Browser interface for Jupyter notebooks</b></center>\n"
   ]
  },
  {
   "cell_type": "markdown",
   "metadata": {},
   "source": [
    "## 3. Opening the ISFOG2020 Jupyter notebooks\n",
    "\n",
    "The Jupyter notebooks for the data science prediction event are available on GitHub. Navigate to the GitHub page in your browser (https://github.com/isfog/datascience2020) and click the download button. To download the source code. Save the files in a subdirectory of the Jupyter base directory to allow you to navigate to the files (e.g. in a subdirectory <i>ISFOG2020</i> of your <i>Documents</i> folder).\n",
    "\n",
    "\n",
    "<img src=\"Images/github_navigation.png\">\n",
    "<br><center><b>Figure 4: Navigating to GitHub and downloading the source</b></center>\n",
    "\n",
    "Navigate to this location in the Jupyter interface in the browser. Open the file with the data science demo (```Prediction event demo.ipynb```) by clicking on the filename.\n",
    "\n",
    "<img src=\"Images/open_demo.png\" width=600>\n",
    "<br><center><b>Figure 5: Opening the data science prediction event demo</b></center>\n",
    "\n",
    "You are now ready to run the code in the demo and discover how a machine learning model can be specified and trained on measured data."
   ]
  }
 ],
 "metadata": {
  "hide_input": false,
  "kernelspec": {
   "display_name": "Python 3",
   "language": "python",
   "name": "python3"
  },
  "language_info": {
   "codemirror_mode": {
    "name": "ipython",
    "version": 3
   },
   "file_extension": ".py",
   "mimetype": "text/x-python",
   "name": "python",
   "nbconvert_exporter": "python",
   "pygments_lexer": "ipython3",
   "version": "3.6.8"
  }
 },
 "nbformat": 4,
 "nbformat_minor": 2
}
